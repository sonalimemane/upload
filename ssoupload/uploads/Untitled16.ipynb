{
 "cells": [
  {
   "cell_type": "code",
   "execution_count": 2,
   "id": "cdb5ca66",
   "metadata": {},
   "outputs": [
    {
     "data": {
      "text/plain": [
       "['Sales_December_2019.csv',\n",
       " 'Sales_April_2019.csv',\n",
       " 'Sales_February_2019.csv',\n",
       " 'Sales_March_2019.csv',\n",
       " 'Sales_August_2019.csv',\n",
       " 'Sales_May_2019.csv',\n",
       " 'all_data_copy.csv',\n",
       " 'Sales_November_2019.csv',\n",
       " 'Sales_October_2019.csv',\n",
       " 'Sales_January_2019.csv',\n",
       " 'Sales_September_2019.csv',\n",
       " 'Sales_July_2019.csv',\n",
       " 'Sales_June_2019.csv']"
      ]
     },
     "execution_count": 2,
     "metadata": {},
     "output_type": "execute_result"
    }
   ],
   "source": [
    "import os\n",
    "import pandas as pd\n",
    "import matplotlib.pyplot as plt\n",
    "path = \"./Sales_Data\"\n",
    "\n",
    "files = [file for file in os.listdir(path) if not file.startswith('.')] # Ignore hidden files\n",
    "\n",
    "files"
   ]
  },
  {
   "cell_type": "code",
   "execution_count": 3,
   "id": "34d2d687",
   "metadata": {},
   "outputs": [
    {
     "data": {
      "text/html": [
       "<div>\n",
       "<style scoped>\n",
       "    .dataframe tbody tr th:only-of-type {\n",
       "        vertical-align: middle;\n",
       "    }\n",
       "\n",
       "    .dataframe tbody tr th {\n",
       "        vertical-align: top;\n",
       "    }\n",
       "\n",
       "    .dataframe thead th {\n",
       "        text-align: right;\n",
       "    }\n",
       "</style>\n",
       "<table border=\"1\" class=\"dataframe\">\n",
       "  <thead>\n",
       "    <tr style=\"text-align: right;\">\n",
       "      <th></th>\n",
       "      <th>Order ID</th>\n",
       "      <th>Product</th>\n",
       "      <th>Quantity Ordered</th>\n",
       "      <th>Price Each</th>\n",
       "      <th>Order Date</th>\n",
       "      <th>Purchase Address</th>\n",
       "    </tr>\n",
       "  </thead>\n",
       "  <tbody>\n",
       "    <tr>\n",
       "      <th>0</th>\n",
       "      <td>295665</td>\n",
       "      <td>Macbook Pro Laptop</td>\n",
       "      <td>1</td>\n",
       "      <td>1700</td>\n",
       "      <td>12/30/19 00:01</td>\n",
       "      <td>136 Church St, New York City, NY 10001</td>\n",
       "    </tr>\n",
       "    <tr>\n",
       "      <th>1</th>\n",
       "      <td>295666</td>\n",
       "      <td>LG Washing Machine</td>\n",
       "      <td>1</td>\n",
       "      <td>600.0</td>\n",
       "      <td>12/29/19 07:03</td>\n",
       "      <td>562 2nd St, New York City, NY 10001</td>\n",
       "    </tr>\n",
       "    <tr>\n",
       "      <th>2</th>\n",
       "      <td>295667</td>\n",
       "      <td>USB-C Charging Cable</td>\n",
       "      <td>1</td>\n",
       "      <td>11.95</td>\n",
       "      <td>12/12/19 18:21</td>\n",
       "      <td>277 Main St, New York City, NY 10001</td>\n",
       "    </tr>\n",
       "    <tr>\n",
       "      <th>3</th>\n",
       "      <td>295668</td>\n",
       "      <td>27in FHD Monitor</td>\n",
       "      <td>1</td>\n",
       "      <td>149.99</td>\n",
       "      <td>12/22/19 15:13</td>\n",
       "      <td>410 6th St, San Francisco, CA 94016</td>\n",
       "    </tr>\n",
       "    <tr>\n",
       "      <th>4</th>\n",
       "      <td>295669</td>\n",
       "      <td>USB-C Charging Cable</td>\n",
       "      <td>1</td>\n",
       "      <td>11.95</td>\n",
       "      <td>12/18/19 12:38</td>\n",
       "      <td>43 Hill St, Atlanta, GA 30301</td>\n",
       "    </tr>\n",
       "    <tr>\n",
       "      <th>5</th>\n",
       "      <td>295670</td>\n",
       "      <td>AA Batteries (4-pack)</td>\n",
       "      <td>1</td>\n",
       "      <td>3.84</td>\n",
       "      <td>12/31/19 22:58</td>\n",
       "      <td>200 Jefferson St, New York City, NY 10001</td>\n",
       "    </tr>\n",
       "    <tr>\n",
       "      <th>6</th>\n",
       "      <td>295671</td>\n",
       "      <td>USB-C Charging Cable</td>\n",
       "      <td>1</td>\n",
       "      <td>11.95</td>\n",
       "      <td>12/16/19 15:10</td>\n",
       "      <td>928 12th St, Portland, OR 97035</td>\n",
       "    </tr>\n",
       "    <tr>\n",
       "      <th>7</th>\n",
       "      <td>295672</td>\n",
       "      <td>USB-C Charging Cable</td>\n",
       "      <td>2</td>\n",
       "      <td>11.95</td>\n",
       "      <td>12/13/19 09:29</td>\n",
       "      <td>813 Hickory St, Dallas, TX 75001</td>\n",
       "    </tr>\n",
       "    <tr>\n",
       "      <th>8</th>\n",
       "      <td>295673</td>\n",
       "      <td>Bose SoundSport Headphones</td>\n",
       "      <td>1</td>\n",
       "      <td>99.99</td>\n",
       "      <td>12/15/19 23:26</td>\n",
       "      <td>718 Wilson St, Dallas, TX 75001</td>\n",
       "    </tr>\n",
       "    <tr>\n",
       "      <th>9</th>\n",
       "      <td>295674</td>\n",
       "      <td>AAA Batteries (4-pack)</td>\n",
       "      <td>4</td>\n",
       "      <td>2.99</td>\n",
       "      <td>12/28/19 11:51</td>\n",
       "      <td>77 7th St, Dallas, TX 75001</td>\n",
       "    </tr>\n",
       "  </tbody>\n",
       "</table>\n",
       "</div>"
      ],
      "text/plain": [
       "  Order ID                     Product Quantity Ordered Price Each  \\\n",
       "0   295665          Macbook Pro Laptop                1       1700   \n",
       "1   295666          LG Washing Machine                1      600.0   \n",
       "2   295667        USB-C Charging Cable                1      11.95   \n",
       "3   295668            27in FHD Monitor                1     149.99   \n",
       "4   295669        USB-C Charging Cable                1      11.95   \n",
       "5   295670       AA Batteries (4-pack)                1       3.84   \n",
       "6   295671        USB-C Charging Cable                1      11.95   \n",
       "7   295672        USB-C Charging Cable                2      11.95   \n",
       "8   295673  Bose SoundSport Headphones                1      99.99   \n",
       "9   295674      AAA Batteries (4-pack)                4       2.99   \n",
       "\n",
       "       Order Date                           Purchase Address  \n",
       "0  12/30/19 00:01     136 Church St, New York City, NY 10001  \n",
       "1  12/29/19 07:03        562 2nd St, New York City, NY 10001  \n",
       "2  12/12/19 18:21       277 Main St, New York City, NY 10001  \n",
       "3  12/22/19 15:13        410 6th St, San Francisco, CA 94016  \n",
       "4  12/18/19 12:38              43 Hill St, Atlanta, GA 30301  \n",
       "5  12/31/19 22:58  200 Jefferson St, New York City, NY 10001  \n",
       "6  12/16/19 15:10            928 12th St, Portland, OR 97035  \n",
       "7  12/13/19 09:29           813 Hickory St, Dallas, TX 75001  \n",
       "8  12/15/19 23:26            718 Wilson St, Dallas, TX 75001  \n",
       "9  12/28/19 11:51                77 7th St, Dallas, TX 75001  "
      ]
     },
     "execution_count": 3,
     "metadata": {},
     "output_type": "execute_result"
    }
   ],
   "source": [
    "all_data = pd.read_csv(path+'/'+\"all_data_copy.csv\")\n",
    "all_data.head(10)"
   ]
  },
  {
   "cell_type": "code",
   "execution_count": 4,
   "id": "3d79cf20",
   "metadata": {},
   "outputs": [
    {
     "ename": "NameError",
     "evalue": "name 'df' is not defined",
     "output_type": "error",
     "traceback": [
      "\u001b[0;31m---------------------------------------------------------------------------\u001b[0m",
      "\u001b[0;31mNameError\u001b[0m                                 Traceback (most recent call last)",
      "Cell \u001b[0;32mIn[4], line 4\u001b[0m\n\u001b[1;32m      2\u001b[0m     \u001b[38;5;28;01mfor\u001b[39;00m i \u001b[38;5;129;01min\u001b[39;00m \u001b[38;5;28mrange\u001b[39m(\u001b[38;5;28mlen\u001b[39m(x)):\n\u001b[1;32m      3\u001b[0m         plt\u001b[38;5;241m.\u001b[39mtext(i, y[i], \u001b[38;5;28mstr\u001b[39m((y[i]\u001b[38;5;241m/\u001b[39m\u001b[38;5;241m100\u001b[39m)\u001b[38;5;241m.\u001b[39mround(\u001b[38;5;241m3\u001b[39m))\u001b[38;5;241m+\u001b[39m\u001b[38;5;124m\"\u001b[39m\u001b[38;5;124m crores\u001b[39m\u001b[38;5;124m\"\u001b[39m, ha \u001b[38;5;241m=\u001b[39m \u001b[38;5;124m'\u001b[39m\u001b[38;5;124mcenter\u001b[39m\u001b[38;5;124m'\u001b[39m, va\u001b[38;5;241m=\u001b[39m\u001b[38;5;124m'\u001b[39m\u001b[38;5;124mbottom\u001b[39m\u001b[38;5;124m'\u001b[39m)\n\u001b[0;32m----> 4\u001b[0m titles \u001b[38;5;241m=\u001b[39m[\u001b[43mdf\u001b[49m[\u001b[38;5;124m'\u001b[39m\u001b[38;5;124mProduct\u001b[39m\u001b[38;5;124m'\u001b[39m]\u001b[38;5;241m.\u001b[39msum()\u001b[38;5;241m.\u001b[39mround(\u001b[38;5;241m2\u001b[39m),df[\u001b[38;5;124m'\u001b[39m\u001b[38;5;124mOrder Date\u001b[39m\u001b[38;5;124m'\u001b[39m]\u001b[38;5;241m.\u001b[39msum()\u001b[38;5;241m.\u001b[39mround(\u001b[38;5;241m2\u001b[39m),df[\u001b[38;5;124m'\u001b[39m\u001b[38;5;124mQuanity Ordered\u001b[39m\u001b[38;5;124m'\u001b[39m]\u001b[38;5;241m.\u001b[39msum()\u001b[38;5;241m.\u001b[39mround(\u001b[38;5;241m2\u001b[39m),df[\u001b[38;5;124m'\u001b[39m\u001b[38;5;124mPrice Each\u001b[39m\u001b[38;5;124m'\u001b[39m]\u001b[38;5;241m.\u001b[39msum()\u001b[38;5;241m.\u001b[39mround(\u001b[38;5;241m2\u001b[39m)]\n\u001b[1;32m      5\u001b[0m name\u001b[38;5;241m=\u001b[39m[\u001b[38;5;124m'\u001b[39m\u001b[38;5;124mProduct\u001b[39m\u001b[38;5;124m'\u001b[39m,\u001b[38;5;124m'\u001b[39m\u001b[38;5;124mOrder Date\u001b[39m\u001b[38;5;124m'\u001b[39m,\u001b[38;5;124m'\u001b[39m\u001b[38;5;124mQuantity Ordered\u001b[39m\u001b[38;5;124m'\u001b[39m,\u001b[38;5;124m'\u001b[39m\u001b[38;5;124mPrice Each\u001b[39m\u001b[38;5;124m'\u001b[39m]                                                                     \n",
      "\u001b[0;31mNameError\u001b[0m: name 'df' is not defined"
     ]
    }
   ],
   "source": [
    "def sales(x,y):\n",
    "    for i in range(len(x)):\n",
    "        plt.text(i, y[i], str((y[i]/100).round(3))+\" crores\", ha = 'center', va='bottom')\n",
    "titles =[df['Product'].sum().round(2),df['Order Date'].sum().round(2),df['Quanity Ordered'].sum().round(2),df['Price Each'].sum().round(2)]\n",
    "name=['Product','Order Date','Quantity Ordered','Price Each']                                                                     "
   ]
  },
  {
   "cell_type": "code",
   "execution_count": 5,
   "id": "6336e6f4",
   "metadata": {},
   "outputs": [
    {
     "ename": "SyntaxError",
     "evalue": "invalid syntax (3461460120.py, line 2)",
     "output_type": "error",
     "traceback": [
      "\u001b[0;36m  Cell \u001b[0;32mIn[5], line 2\u001b[0;36m\u001b[0m\n\u001b[0;31m    def __init__(self,Product,Quantity Ordered,Price Each,Order Date,Purchase Address):\u001b[0m\n\u001b[0m                                       ^\u001b[0m\n\u001b[0;31mSyntaxError\u001b[0m\u001b[0;31m:\u001b[0m invalid syntax\n"
     ]
    }
   ],
   "source": [
    "class classification:\n",
    "    def __init__(self,Product,Quantity Ordered,Price Each,Order Date,Purchase Address):\n",
    "        self.Product=list()\n",
    "        self.Quantity Ordered==list()\n",
    "        self.Price Each=list()\n",
    "        self.Order Date=list()\n",
    "        self.Purchase Address=list()\n",
    "s=classification()"
   ]
  },
  {
   "cell_type": "code",
   "execution_count": null,
   "id": "1d6eea42",
   "metadata": {},
   "outputs": [],
   "source": []
  },
  {
   "cell_type": "code",
   "execution_count": null,
   "id": "295a413a",
   "metadata": {},
   "outputs": [],
   "source": []
  },
  {
   "cell_type": "code",
   "execution_count": null,
   "id": "514ebbdf",
   "metadata": {},
   "outputs": [],
   "source": []
  }
 ],
 "metadata": {
  "kernelspec": {
   "display_name": "Python 3 (ipykernel)",
   "language": "python",
   "name": "python3"
  },
  "language_info": {
   "codemirror_mode": {
    "name": "ipython",
    "version": 3
   },
   "file_extension": ".py",
   "mimetype": "text/x-python",
   "name": "python",
   "nbconvert_exporter": "python",
   "pygments_lexer": "ipython3",
   "version": "3.10.7"
  }
 },
 "nbformat": 4,
 "nbformat_minor": 5
}
